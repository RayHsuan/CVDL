{
 "cells": [
  {
   "cell_type": "markdown",
   "metadata": {
    "colab_type": "text",
    "id": "CG77DrrB2CrU"
   },
   "source": [
    "## 作業\n",
    "\n",
    "1. 如何使用已經訓練好的模型？\n",
    "2. 依照 https://github.com/qqwweee/keras-yolo3 的程式碼，請敘述，訓練模型時，資料集的格式是什麼？具體一點的說，要提供什麼格式的文件來描述資料集的圖片以及 bboxes 的信息呢？\n",
    "\n",
    "\n",
    "\n"
   ]
  },
  {
   "cell_type": "markdown",
   "metadata": {
    "colab": {
     "base_uri": "https://localhost:8080/",
     "height": 122
    },
    "colab_type": "code",
    "executionInfo": {
     "elapsed": 3899,
     "status": "ok",
     "timestamp": 1576082714890,
     "user": {
      "displayName": "杜靖愷",
      "photoUrl": "https://lh3.googleusercontent.com/a-/AAuE7mCXX8JZZ0DBZWt2P1EC5LvipxZDIWxKz2uCJ7bzpQ=s64",
      "userId": "03195633593178984431"
     },
     "user_tz": -480
    },
    "id": "NCEP-DG0VxlV",
    "outputId": "5adc330a-85ba-4196-ce0e-5455f58c127e"
   },
   "source": [
    "1.從Sample中可以發現，在訓練的每一個的每一個epoch都會將結果記錄在model.save_weights(log_dir + 'trained_weights_final.h5')\n",
    "直到結束或者被迫提早停止訓練，利用這個權重和模型架構的紀錄，就可以呼叫yolo這個類別，製作一個新model來預測，方法同sample中的\n",
    "from yolo import YOLO\n",
    "yolo_model = YOLO(model_path=log_dir + 'trained_weights_final.h5', classes_path=classes_path)\n",
    "r_image = yolo_model.detect_image(image)"
   ]
  },
  {
   "cell_type": "markdown",
   "metadata": {
    "colab": {
     "base_uri": "https://localhost:8080/",
     "height": 281
    },
    "colab_type": "code",
    "executionInfo": {
     "elapsed": 10841,
     "status": "ok",
     "timestamp": 1576082721843,
     "user": {
      "displayName": "杜靖愷",
      "photoUrl": "https://lh3.googleusercontent.com/a-/AAuE7mCXX8JZZ0DBZWt2P1EC5LvipxZDIWxKz2uCJ7bzpQ=s64",
      "userId": "03195633593178984431"
     },
     "user_tz": -480
    },
    "id": "eXT7SQe0KQxv",
    "outputId": "444de4be-8b57-432a-defc-2feeaf15cd6f"
   },
   "source": [
    "2.從model.fit_generator(data_generator_wrapper(lines[:num_train], batch_size, input_shape, anchors, num_classes)\n",
    "以及檔案2007_train.txt 中的長相/VOCdevkit/VOC2007/JPEGImages/000017.jpg 185,62,279,199,14 90,78,403,336,12\\n',\n",
    "可以發現，Input的格式如下...\n",
    "\n",
    "A.檔名(含路徑)\n",
    "B.從兩兩一組的座標來看應該是左上&右下的座標，後方接著的就是該圖框內的物件類別"
   ]
  },
  {
   "cell_type": "code",
   "execution_count": null,
   "metadata": {
    "colab": {},
    "colab_type": "code",
    "collapsed": true,
    "id": "ooyy53TW5c0L"
   },
   "outputs": [],
   "source": []
  }
 ],
 "metadata": {
  "accelerator": "GPU",
  "colab": {
   "collapsed_sections": [],
   "name": "Day41_train_yolov3_HW.ipynb",
   "provenance": []
  },
  "kernelspec": {
   "display_name": "Python 3",
   "language": "python",
   "name": "python3"
  },
  "language_info": {
   "codemirror_mode": {
    "name": "ipython",
    "version": 3
   },
   "file_extension": ".py",
   "mimetype": "text/x-python",
   "name": "python",
   "nbconvert_exporter": "python",
   "pygments_lexer": "ipython3",
   "version": "3.7.4"
  }
 },
 "nbformat": 4,
 "nbformat_minor": 1
}
